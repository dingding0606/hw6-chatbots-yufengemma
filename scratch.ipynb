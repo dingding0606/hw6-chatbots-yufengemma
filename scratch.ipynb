{
 "cells": [
  {
   "cell_type": "markdown",
   "id": "9155a9ad",
   "metadata": {},
   "source": [
    "# Scratch\n",
    "\n",
    "Try using a Jupyter Notebook like we've provided here as a \"scratch pad\" for developing code. \n",
    "\n",
    "You can quickly test functions as modular pieces of your larger code. "
   ]
  },
  {
   "cell_type": "code",
   "execution_count": 36,
   "id": "e61bfb99",
   "metadata": {},
   "outputs": [],
   "source": [
    "import numpy as np # add more packages if you need them "
   ]
  },
  {
   "cell_type": "code",
   "execution_count": 37,
   "id": "7f75905a",
   "metadata": {},
   "outputs": [
    {
     "name": "stdout",
     "output_type": "stream",
     "text": [
      "The autoreload extension is already loaded. To reload it, use:\n",
      "  %reload_ext autoreload\n"
     ]
    }
   ],
   "source": [
    "from chatbot import * #imports all functions from chatbot.py\n",
    "from util import *\n",
    "\n",
    "# The lines below auto-reload the code you write in chatbot.py \n",
    "%load_ext autoreload\n",
    "%autoreload 2"
   ]
  },
  {
   "cell_type": "code",
   "execution_count": 38,
   "id": "be860aa2",
   "metadata": {},
   "outputs": [
    {
     "name": "stdout",
     "output_type": "stream",
     "text": [
      "Accuracy on the dev set:  0.6909090909090909\n"
     ]
    }
   ],
   "source": [
    "chatbot = Chatbot()"
   ]
  },
  {
   "cell_type": "code",
   "execution_count": 101,
   "id": "9ca6ebf1",
   "metadata": {},
   "outputs": [],
   "source": [
    "text = \"\""
   ]
  },
  {
   "cell_type": "code",
   "execution_count": 102,
   "id": "517299c0",
   "metadata": {},
   "outputs": [
    {
     "data": {
      "text/plain": [
       "0"
      ]
     },
     "execution_count": 102,
     "metadata": {},
     "output_type": "execute_result"
    }
   ],
   "source": [
    "chatbot.predict_sentiment_statistical(text)"
   ]
  },
  {
   "cell_type": "code",
   "execution_count": 8,
   "id": "95a0ddb4",
   "metadata": {},
   "outputs": [
    {
     "name": "stdout",
     "output_type": "stream",
     "text": [
      "Title indices:  [1359, 2716]\n",
      "[title unclear] We have a couple titles matching that movie in our database. Which one did you see?\n",
      "Titanic (1997)\n",
      "Titanic (1953)\n",
      "\n",
      "[sentiment and title confirmed] Thank you. Tell me about another movie you have seen.\n"
     ]
    }
   ],
   "source": [
    "text1 = \"I liked \\\"Titanic\\\"\"\n",
    "text2 = \"1997\"\n",
    "print(chatbot.process(text1))\n",
    "print(chatbot.process(text2))"
   ]
  },
  {
   "cell_type": "code",
   "execution_count": 17,
   "id": "d6833454",
   "metadata": {},
   "outputs": [
    {
     "data": {
      "text/plain": [
       "defaultdict(int, {1359: 1, 8663: 1, 680: 1})"
      ]
     },
     "execution_count": 17,
     "metadata": {},
     "output_type": "execute_result"
    }
   ],
   "source": [
    "chatbot.data_points"
   ]
  },
  {
   "cell_type": "code",
   "execution_count": 18,
   "id": "d1a52e5a",
   "metadata": {},
   "outputs": [],
   "source": [
    "text1 = \"I disliked \\\"Nixon\\\"\"\n",
    "text2 = \"i like nemo\""
   ]
  },
  {
   "cell_type": "code",
   "execution_count": 23,
   "id": "4abf93dd",
   "metadata": {},
   "outputs": [
    {
     "name": "stdout",
     "output_type": "stream",
     "text": [
      "Title indices:  [13, 8663]\n",
      "[title unclear] We have a couple titles matching that movie in our database. Which one did you see?\n",
      "Nixon (1995)\n",
      "Nixon by Nixon: In His Own Words (2014)\n",
      "\n"
     ]
    }
   ],
   "source": [
    "print(chatbot.process(text1))"
   ]
  },
  {
   "cell_type": "code",
   "execution_count": 24,
   "id": "e168a72d",
   "metadata": {},
   "outputs": [
    {
     "name": "stdout",
     "output_type": "stream",
     "text": [
      "[exceeded num clarifications] Hm. We can't seem to figure out what exactly to make of your response. Would you mind telling me about a different movie you've seen?\n"
     ]
    }
   ],
   "source": [
    "print(chatbot.process(text2))"
   ]
  },
  {
   "cell_type": "code",
   "execution_count": 14,
   "id": "0fe0e7d3",
   "metadata": {},
   "outputs": [
    {
     "data": {
      "text/plain": [
       "0"
      ]
     },
     "execution_count": 14,
     "metadata": {},
     "output_type": "execute_result"
    }
   ],
   "source": [
    "chatbot.num_title_clarifications"
   ]
  },
  {
   "cell_type": "code",
   "execution_count": 15,
   "id": "1d8a1527",
   "metadata": {},
   "outputs": [],
   "source": [
    "text1 = \"I disliked \\\"Matilda\\\"\""
   ]
  },
  {
   "cell_type": "code",
   "execution_count": 16,
   "id": "b5336312",
   "metadata": {},
   "outputs": [
    {
     "name": "stdout",
     "output_type": "stream",
     "text": [
      "Title indices:  [680]\n",
      "[sentiment and title confirmed] Thank you. Tell me about another movie you have seen.\n"
     ]
    }
   ],
   "source": [
    "print(chatbot.process(text1))"
   ]
  },
  {
   "cell_type": "code",
   "execution_count": 7,
   "id": "64841b7f",
   "metadata": {},
   "outputs": [
    {
     "name": "stdout",
     "output_type": "stream",
     "text": [
      "[1971, 81, 2242, 1163, 1433, 1447, 1772, 1814, 2057, 1717]\n"
     ]
    }
   ],
   "source": [
    "# testing recommend()\n",
    "data = {100: 1, 202: -1, 303: 1, 404:1, 505: 1}\n",
    "\n",
    "sparse_data_array = [0] *len(chatbot.titles)\n",
    "\n",
    "for key in data.keys():\n",
    "    sparse_data_array[key] = data[key]\n",
    "\n",
    "print(recommend(sparse_data_array, chatbot.ratings))"
   ]
  },
  {
   "cell_type": "code",
   "execution_count": 12,
   "id": "1c90f5eb",
   "metadata": {},
   "outputs": [
    {
     "data": {
      "text/plain": [
       "[1971, 81, 2242]"
      ]
     },
     "execution_count": 12,
     "metadata": {},
     "output_type": "execute_result"
    }
   ],
   "source": [
    "data = {100: 1, 202: -1, 303: 1, 404:1, 505: 1}\n",
    "chatbot.recommend_movies(data, 3)"
   ]
  },
  {
   "cell_type": "code",
   "execution_count": 11,
   "id": "7dcec60b",
   "metadata": {},
   "outputs": [
    {
     "data": {
      "text/plain": [
       "['Fast and Furious']"
      ]
     },
     "execution_count": 11,
     "metadata": {},
     "output_type": "execute_result"
    }
   ],
   "source": [
    "chatbot.extract_titles(\"I'm not a huge fan of action movies like \\\"Fast and Furious\\\"\")"
   ]
  },
  {
   "cell_type": "code",
   "execution_count": 39,
   "id": "ae2e2620",
   "metadata": {},
   "outputs": [
    {
     "data": {
      "text/plain": [
       "[3460, 7277]"
      ]
     },
     "execution_count": 39,
     "metadata": {},
     "output_type": "execute_result"
    }
   ],
   "source": [
    "chatbot.find_movies_idx_by_title('Fast and Furious')"
   ]
  },
  {
   "cell_type": "code",
   "execution_count": 26,
   "id": "e42bac12",
   "metadata": {},
   "outputs": [
    {
     "name": "stdout",
     "output_type": "stream",
     "text": [
      "['Fast', 'and', 'the', 'Furious', 'The']\n"
     ]
    }
   ],
   "source": [
    "tokens = chatbot.tokenizer('Fast and the Furious, The')\n",
    "cleaned = []\n",
    "for token in tokens:\n",
    "    alphanumerics = ''.join(c for c in token if c.isalnum())\n",
    "    if alphanumerics != '':\n",
    "        cleaned.append(alphanumerics)\n",
    "# cleaned = [''.join(c for c in token if c.isalnum()) for token in tokens if ''.join(c for c in token if c.isalnum())]\n",
    "print(cleaned)"
   ]
  },
  {
   "cell_type": "code",
   "execution_count": 31,
   "id": "2538cca3",
   "metadata": {},
   "outputs": [
    {
     "name": "stdout",
     "output_type": "stream",
     "text": [
      "['Fast', 'and', 'the', 'Furious', 'The']\n"
     ]
    }
   ],
   "source": []
  }
 ],
 "metadata": {
  "kernelspec": {
   "display_name": "Python 3 (ipykernel)",
   "language": "python",
   "name": "python3"
  },
  "language_info": {
   "codemirror_mode": {
    "name": "ipython",
    "version": 3
   },
   "file_extension": ".py",
   "mimetype": "text/x-python",
   "name": "python",
   "nbconvert_exporter": "python",
   "pygments_lexer": "ipython3",
   "version": "3.8.16"
  }
 },
 "nbformat": 4,
 "nbformat_minor": 5
}
